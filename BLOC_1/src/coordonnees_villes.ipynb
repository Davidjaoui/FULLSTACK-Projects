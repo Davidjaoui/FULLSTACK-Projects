{
 "cells": [
  {
   "cell_type": "markdown",
   "metadata": {},
   "source": [
    "# 📍 Récupération des coordonnées GPS de villes françaises via l’API Nominatim\n",
    "Ce notebook utilise l'API [Nominatim](https://nominatim.org/) pour récupérer les coordonnées GPS de plusieurs villes françaises.\n",
    "Il exporte ensuite les résultats dans un fichier CSV et affiche les villes sur une carte avec Plotly."
   ]
  },
  {
   "cell_type": "code",
   "execution_count": 1,
   "metadata": {},
   "outputs": [],
   "source": [
    "import requests\n",
    "import pandas as pd\n",
    "import plotly.express as px"
   ]
  },
  {
   "cell_type": "code",
   "execution_count": 2,
   "metadata": {},
   "outputs": [],
   "source": [
    "# Liste des villes à traiter\n",
    "city = [\n",
    "    \"Mont Saint Michel\", \"St Malo\", \"Bayeux\", \"Le Havre\", \"Rouen\", \"Paris\",\n",
    "    \"Amiens\", \"Lille\", \"Strasbourg\", \"Chateau du Haut Koenigsbourg\", \"Colmar\",\n",
    "    \"Eguisheim\", \"Besancon\", \"Dijon\", \"Annecy\", \"Grenoble\", \"Lyon\",\n",
    "    \"Moustiers-Sainte-Marie\", \"Bormes les Mimosas\", \"Cassis\", \"Marseille\",\n",
    "    \"Aix en Provence\", \"Avignon\", \"Uzes\", \"Nimes\", \"Aigues Mortes\",\n",
    "    \"Saintes Maries de la mer\", \"Collioure\", \"Carcassonne\", \"Ariege\",\n",
    "    \"Toulouse\", \"Montauban\", \"Biarritz\", \"Bayonne\", \"La Rochelle\"\n",
    "]"
   ]
  },
  {
   "cell_type": "code",
   "execution_count": 3,
   "metadata": {},
   "outputs": [],
   "source": [
    "# URL de base de l'API Nominatim\n",
    "url = \"https://nominatim.openstreetmap.org/search?country=France&format=json&city=\"\n",
    "\n",
    "# Headers requis par l'API (inclure un User-Agent personnalisé)\n",
    "headers = {\n",
    "    \"User-Agent\": \"MyApp/1.0 (ristou@free.fr)\"\n",
    "}"
   ]
  },
  {
   "cell_type": "code",
   "execution_count": 4,
   "metadata": {},
   "outputs": [
    {
     "name": "stdout",
     "output_type": "stream",
     "text": [
      "📍 Traitement de : Mont Saint Michel\n",
      "📍 Traitement de : St Malo\n",
      "📍 Traitement de : Bayeux\n",
      "📍 Traitement de : Le Havre\n",
      "📍 Traitement de : Rouen\n",
      "📍 Traitement de : Paris\n",
      "📍 Traitement de : Amiens\n",
      "📍 Traitement de : Lille\n",
      "📍 Traitement de : Strasbourg\n",
      "📍 Traitement de : Chateau du Haut Koenigsbourg\n",
      "📍 Traitement de : Colmar\n",
      "📍 Traitement de : Eguisheim\n",
      "📍 Traitement de : Besancon\n",
      "📍 Traitement de : Dijon\n",
      "📍 Traitement de : Annecy\n",
      "📍 Traitement de : Grenoble\n",
      "📍 Traitement de : Lyon\n",
      "📍 Traitement de : Moustiers-Sainte-Marie\n",
      "📍 Traitement de : Bormes les Mimosas\n",
      "📍 Traitement de : Cassis\n",
      "📍 Traitement de : Marseille\n",
      "📍 Traitement de : Aix en Provence\n",
      "📍 Traitement de : Avignon\n",
      "📍 Traitement de : Uzes\n",
      "📍 Traitement de : Nimes\n",
      "📍 Traitement de : Aigues Mortes\n",
      "📍 Traitement de : Saintes Maries de la mer\n",
      "📍 Traitement de : Collioure\n",
      "📍 Traitement de : Carcassonne\n",
      "📍 Traitement de : Ariege\n",
      "📍 Traitement de : Toulouse\n",
      "📍 Traitement de : Montauban\n",
      "📍 Traitement de : Biarritz\n",
      "📍 Traitement de : Bayonne\n",
      "📍 Traitement de : La Rochelle\n"
     ]
    }
   ],
   "source": [
    "# Récupération des données de chaque ville\n",
    "rows = []\n",
    "\n",
    "for i in city:\n",
    "    print(f\"📍 Traitement de : {i}\")\n",
    "    r = requests.get(url + i, headers=headers)\n",
    "    \n",
    "    if r.status_code != 200:\n",
    "        print(f\"❌ Erreur HTTP {r.status_code} pour {i}\")\n",
    "        continue\n",
    "\n",
    "    data = r.json()\n",
    "    if not data:\n",
    "        print(f\"⚠️ Aucune donnée trouvée pour {i}\")\n",
    "        continue\n",
    "\n",
    "    result = data[0]\n",
    "    result[\"ville\"] = i\n",
    "    rows.append(result)"
   ]
  },
  {
   "cell_type": "code",
   "execution_count": 5,
   "metadata": {},
   "outputs": [
    {
     "name": "stdout",
     "output_type": "stream",
     "text": [
      "✅ Fichier 'coordonnees_villes.csv' exporté avec succès\n"
     ]
    }
   ],
   "source": [
    "# Création du DataFrame\n",
    "df = pd.DataFrame(rows)\n",
    "# creation d'une colonne date\n",
    "df[\"date\"] = \"2025-07-17\"\n",
    "df = df[[\"ville\", \"display_name\", \"lat\", \"lon\", \"importance\", \"date\"]]  # importance = notoriété du lieu\n",
    "\n",
    "# creation d'une colonne date\n",
    "df[\"date\"] = \"2025-07-17\"\n",
    "# Conversion des coordonnées en float\n",
    "df[\"lat\"] = df[\"lat\"].astype(float)\n",
    "df[\"lon\"] = df[\"lon\"].astype(float)\n",
    "\n",
    "# Export CSV\n",
    "df.to_csv(\"coordonnees_villes.csv\", index=False, encoding=\"utf-8\")\n",
    "print(\"✅ Fichier 'coordonnees_villes.csv' exporté avec succès\")"
   ]
  },
  {
   "cell_type": "markdown",
   "metadata": {},
   "source": [
    "## 🌍 Visualisation interactive avec Plotly"
   ]
  },
  {
   "cell_type": "code",
   "execution_count": 6,
   "metadata": {},
   "outputs": [
    {
     "data": {
      "application/vnd.plotly.v1+json": {
       "config": {
        "plotlyServerURL": "https://plot.ly"
       },
       "data": [
        {
         "hovertemplate": "<b>%{hovertext}</b><br><br>ville=%{text}<br>lat=%{lat}<br>lon=%{lon}<extra></extra>",
         "hovertext": [
          "Mont Saint-Michel, Régina Village, Saint-Mansuy, Toul, Meurthe-et-Moselle, Grand Est, France métropolitaine, 54200, France",
          "Saint-Malo, Ille-et-Vilaine, Bretagne, France métropolitaine, 35400, France",
          "Bayeux, Calvados, Normandie, France métropolitaine, 14400, France",
          "Le Havre, Seine-Maritime, Normandie, France métropolitaine, France",
          "Rouen, Seine-Maritime, Normandie, France métropolitaine, France",
          "Paris, Île-de-France, France métropolitaine, France",
          "Amiens, Somme, Hauts-de-France, France métropolitaine, France",
          "Lille, Nord, Hauts-de-France, France métropolitaine, France",
          "Strasbourg, Bas-Rhin, Grand Est, France métropolitaine, France",
          "Château du Haut-Kœnigsbourg, Orschwiller, Sélestat-Erstein, Bas-Rhin, Grand Est, France métropolitaine, 67600, France",
          "Colmar, Colmar-Ribeauvillé, Haut-Rhin, Grand Est, France métropolitaine, 68000, France",
          "Eguisheim, Colmar-Ribeauvillé, Haut-Rhin, Grand Est, France métropolitaine, 68420, France",
          "Besançon, Doubs, Bourgogne-Franche-Comté, France métropolitaine, 25000, France",
          "Dijon, Côte-d'Or, Bourgogne-Franche-Comté, France métropolitaine, 21000, France",
          "Annecy, Haute-Savoie, Auvergne-Rhône-Alpes, France métropolitaine, France",
          "Grenoble, Isère, Auvergne-Rhône-Alpes, France métropolitaine, France",
          "Lyon, Métropole de Lyon, Rhône, Auvergne-Rhône-Alpes, France métropolitaine, France",
          "Moustiers-Sainte-Marie, Digne-les-Bains, Alpes-de-Haute-Provence, Provence-Alpes-Côte d'Azur, France métropolitaine, 04360, France",
          "Bormes-les-Mimosas, Toulon, Var, Provence-Alpes-Côte d'Azur, France métropolitaine, 83230, France",
          "Cassis, Marseille, Bouches-du-Rhône, Provence-Alpes-Côte d'Azur, France métropolitaine, 13260, France",
          "Marseille, Bouches-du-Rhône, Provence-Alpes-Côte d'Azur, France métropolitaine, France",
          "Aix-en-Provence, Bouches-du-Rhône, Provence-Alpes-Côte d'Azur, France métropolitaine, France",
          "Avignon, Vaucluse, Provence-Alpes-Côte d'Azur, France métropolitaine, France",
          "Uzès, Nîmes, Gard, Occitanie, France métropolitaine, 30700, France",
          "Nîmes, Gard, Occitanie, France métropolitaine, France",
          "Aigues-Mortes, Nîmes, Gard, Occitanie, France métropolitaine, 30220, France",
          "Saintes-Maries-de-la-Mer, Arles, Bouches-du-Rhône, Provence-Alpes-Côte d'Azur, France métropolitaine, 13460, France",
          "Collioure, Céret, Pyrénées-Orientales, Occitanie, France métropolitaine, 66190, France",
          "Carcassonne, Aude, Occitanie, France métropolitaine, 11000, France",
          "Tarascon-sur-Ariège, Foix, Ariège, Occitanie, France métropolitaine, 09400, France",
          "Toulouse, Haute-Garonne, Occitanie, France métropolitaine, France",
          "Montauban, Tarn-et-Garonne, Occitanie, France métropolitaine, 82000, France",
          "Biarritz, Bayonne, Pyrénées-Atlantiques, Nouvelle-Aquitaine, France métropolitaine, 64200, France",
          "Bayonne, Pyrénées-Atlantiques, Nouvelle-Aquitaine, France métropolitaine, 64100, France",
          "La Rochelle, Charente-Maritime, Nouvelle-Aquitaine, France métropolitaine, 17000, France"
         ],
         "lat": [
          48.6906803,
          48.649518,
          49.2764624,
          49.4938975,
          49.4404591,
          48.8534951,
          49.8941708,
          50.6365654,
          48.584614,
          48.2495226,
          48.0777517,
          48.0447968,
          47.2380222,
          47.3215806,
          45.8992348,
          45.1875602,
          45.7578137,
          43.8460089,
          43.1506968,
          43.2140359,
          43.2961743,
          43.5298424,
          43.9492493,
          44.0121279,
          43.8374249,
          43.5661521,
          43.4515922,
          42.52505,
          43.2130358,
          42.8458016,
          43.6044622,
          44.0175835,
          43.4832523,
          43.4945144,
          46.159732
         ],
         "legendgroup": "",
         "lon": [
          5.8826485,
          -2.0260409,
          -0.7024738,
          0.1079732,
          1.0939658,
          2.3483915,
          2.2956951,
          3.0635282,
          7.7507127,
          7.3454923,
          7.3579641,
          7.3079618,
          6.0243622,
          5.0414701,
          6.1288847,
          5.7357819,
          4.8320114,
          6.2217604,
          6.3419285,
          5.5396318,
          5.3699525,
          5.4474738,
          4.8059012,
          4.4196718,
          4.3600687,
          4.19154,
          4.4277202,
          3.0831554,
          2.3491069,
          1.6067586,
          1.4442469,
          1.3549991,
          -1.5592776,
          -1.4736657,
          -1.1515951
         ],
         "marker": {
          "color": "red",
          "size": 12
         },
         "mode": "markers+text",
         "name": "",
         "showlegend": false,
         "subplot": "mapbox",
         "text": [
          "Mont Saint Michel",
          "St Malo",
          "Bayeux",
          "Le Havre",
          "Rouen",
          "Paris",
          "Amiens",
          "Lille",
          "Strasbourg",
          "Chateau du Haut Koenigsbourg",
          "Colmar",
          "Eguisheim",
          "Besancon",
          "Dijon",
          "Annecy",
          "Grenoble",
          "Lyon",
          "Moustiers-Sainte-Marie",
          "Bormes les Mimosas",
          "Cassis",
          "Marseille",
          "Aix en Provence",
          "Avignon",
          "Uzes",
          "Nimes",
          "Aigues Mortes",
          "Saintes Maries de la mer",
          "Collioure",
          "Carcassonne",
          "Ariege",
          "Toulouse",
          "Montauban",
          "Biarritz",
          "Bayonne",
          "La Rochelle"
         ],
         "type": "scattermapbox"
        }
       ],
       "layout": {
        "height": 600,
        "legend": {
         "tracegroupgap": 0
        },
        "mapbox": {
         "center": {
          "lat": 45.84265376285715,
          "lon": 3.6105058914285713
         },
         "domain": {
          "x": [
           0,
           1
          ],
          "y": [
           0,
           1
          ]
         },
         "style": "open-street-map",
         "zoom": 5
        },
        "template": {
         "data": {
          "bar": [
           {
            "error_x": {
             "color": "#2a3f5f"
            },
            "error_y": {
             "color": "#2a3f5f"
            },
            "marker": {
             "line": {
              "color": "#E5ECF6",
              "width": 0.5
             },
             "pattern": {
              "fillmode": "overlay",
              "size": 10,
              "solidity": 0.2
             }
            },
            "type": "bar"
           }
          ],
          "barpolar": [
           {
            "marker": {
             "line": {
              "color": "#E5ECF6",
              "width": 0.5
             },
             "pattern": {
              "fillmode": "overlay",
              "size": 10,
              "solidity": 0.2
             }
            },
            "type": "barpolar"
           }
          ],
          "carpet": [
           {
            "aaxis": {
             "endlinecolor": "#2a3f5f",
             "gridcolor": "white",
             "linecolor": "white",
             "minorgridcolor": "white",
             "startlinecolor": "#2a3f5f"
            },
            "baxis": {
             "endlinecolor": "#2a3f5f",
             "gridcolor": "white",
             "linecolor": "white",
             "minorgridcolor": "white",
             "startlinecolor": "#2a3f5f"
            },
            "type": "carpet"
           }
          ],
          "choropleth": [
           {
            "colorbar": {
             "outlinewidth": 0,
             "ticks": ""
            },
            "type": "choropleth"
           }
          ],
          "contour": [
           {
            "colorbar": {
             "outlinewidth": 0,
             "ticks": ""
            },
            "colorscale": [
             [
              0,
              "#0d0887"
             ],
             [
              0.1111111111111111,
              "#46039f"
             ],
             [
              0.2222222222222222,
              "#7201a8"
             ],
             [
              0.3333333333333333,
              "#9c179e"
             ],
             [
              0.4444444444444444,
              "#bd3786"
             ],
             [
              0.5555555555555556,
              "#d8576b"
             ],
             [
              0.6666666666666666,
              "#ed7953"
             ],
             [
              0.7777777777777778,
              "#fb9f3a"
             ],
             [
              0.8888888888888888,
              "#fdca26"
             ],
             [
              1,
              "#f0f921"
             ]
            ],
            "type": "contour"
           }
          ],
          "contourcarpet": [
           {
            "colorbar": {
             "outlinewidth": 0,
             "ticks": ""
            },
            "type": "contourcarpet"
           }
          ],
          "heatmap": [
           {
            "colorbar": {
             "outlinewidth": 0,
             "ticks": ""
            },
            "colorscale": [
             [
              0,
              "#0d0887"
             ],
             [
              0.1111111111111111,
              "#46039f"
             ],
             [
              0.2222222222222222,
              "#7201a8"
             ],
             [
              0.3333333333333333,
              "#9c179e"
             ],
             [
              0.4444444444444444,
              "#bd3786"
             ],
             [
              0.5555555555555556,
              "#d8576b"
             ],
             [
              0.6666666666666666,
              "#ed7953"
             ],
             [
              0.7777777777777778,
              "#fb9f3a"
             ],
             [
              0.8888888888888888,
              "#fdca26"
             ],
             [
              1,
              "#f0f921"
             ]
            ],
            "type": "heatmap"
           }
          ],
          "heatmapgl": [
           {
            "colorbar": {
             "outlinewidth": 0,
             "ticks": ""
            },
            "colorscale": [
             [
              0,
              "#0d0887"
             ],
             [
              0.1111111111111111,
              "#46039f"
             ],
             [
              0.2222222222222222,
              "#7201a8"
             ],
             [
              0.3333333333333333,
              "#9c179e"
             ],
             [
              0.4444444444444444,
              "#bd3786"
             ],
             [
              0.5555555555555556,
              "#d8576b"
             ],
             [
              0.6666666666666666,
              "#ed7953"
             ],
             [
              0.7777777777777778,
              "#fb9f3a"
             ],
             [
              0.8888888888888888,
              "#fdca26"
             ],
             [
              1,
              "#f0f921"
             ]
            ],
            "type": "heatmapgl"
           }
          ],
          "histogram": [
           {
            "marker": {
             "pattern": {
              "fillmode": "overlay",
              "size": 10,
              "solidity": 0.2
             }
            },
            "type": "histogram"
           }
          ],
          "histogram2d": [
           {
            "colorbar": {
             "outlinewidth": 0,
             "ticks": ""
            },
            "colorscale": [
             [
              0,
              "#0d0887"
             ],
             [
              0.1111111111111111,
              "#46039f"
             ],
             [
              0.2222222222222222,
              "#7201a8"
             ],
             [
              0.3333333333333333,
              "#9c179e"
             ],
             [
              0.4444444444444444,
              "#bd3786"
             ],
             [
              0.5555555555555556,
              "#d8576b"
             ],
             [
              0.6666666666666666,
              "#ed7953"
             ],
             [
              0.7777777777777778,
              "#fb9f3a"
             ],
             [
              0.8888888888888888,
              "#fdca26"
             ],
             [
              1,
              "#f0f921"
             ]
            ],
            "type": "histogram2d"
           }
          ],
          "histogram2dcontour": [
           {
            "colorbar": {
             "outlinewidth": 0,
             "ticks": ""
            },
            "colorscale": [
             [
              0,
              "#0d0887"
             ],
             [
              0.1111111111111111,
              "#46039f"
             ],
             [
              0.2222222222222222,
              "#7201a8"
             ],
             [
              0.3333333333333333,
              "#9c179e"
             ],
             [
              0.4444444444444444,
              "#bd3786"
             ],
             [
              0.5555555555555556,
              "#d8576b"
             ],
             [
              0.6666666666666666,
              "#ed7953"
             ],
             [
              0.7777777777777778,
              "#fb9f3a"
             ],
             [
              0.8888888888888888,
              "#fdca26"
             ],
             [
              1,
              "#f0f921"
             ]
            ],
            "type": "histogram2dcontour"
           }
          ],
          "mesh3d": [
           {
            "colorbar": {
             "outlinewidth": 0,
             "ticks": ""
            },
            "type": "mesh3d"
           }
          ],
          "parcoords": [
           {
            "line": {
             "colorbar": {
              "outlinewidth": 0,
              "ticks": ""
             }
            },
            "type": "parcoords"
           }
          ],
          "pie": [
           {
            "automargin": true,
            "type": "pie"
           }
          ],
          "scatter": [
           {
            "fillpattern": {
             "fillmode": "overlay",
             "size": 10,
             "solidity": 0.2
            },
            "type": "scatter"
           }
          ],
          "scatter3d": [
           {
            "line": {
             "colorbar": {
              "outlinewidth": 0,
              "ticks": ""
             }
            },
            "marker": {
             "colorbar": {
              "outlinewidth": 0,
              "ticks": ""
             }
            },
            "type": "scatter3d"
           }
          ],
          "scattercarpet": [
           {
            "marker": {
             "colorbar": {
              "outlinewidth": 0,
              "ticks": ""
             }
            },
            "type": "scattercarpet"
           }
          ],
          "scattergeo": [
           {
            "marker": {
             "colorbar": {
              "outlinewidth": 0,
              "ticks": ""
             }
            },
            "type": "scattergeo"
           }
          ],
          "scattergl": [
           {
            "marker": {
             "colorbar": {
              "outlinewidth": 0,
              "ticks": ""
             }
            },
            "type": "scattergl"
           }
          ],
          "scattermapbox": [
           {
            "marker": {
             "colorbar": {
              "outlinewidth": 0,
              "ticks": ""
             }
            },
            "type": "scattermapbox"
           }
          ],
          "scatterpolar": [
           {
            "marker": {
             "colorbar": {
              "outlinewidth": 0,
              "ticks": ""
             }
            },
            "type": "scatterpolar"
           }
          ],
          "scatterpolargl": [
           {
            "marker": {
             "colorbar": {
              "outlinewidth": 0,
              "ticks": ""
             }
            },
            "type": "scatterpolargl"
           }
          ],
          "scatterternary": [
           {
            "marker": {
             "colorbar": {
              "outlinewidth": 0,
              "ticks": ""
             }
            },
            "type": "scatterternary"
           }
          ],
          "surface": [
           {
            "colorbar": {
             "outlinewidth": 0,
             "ticks": ""
            },
            "colorscale": [
             [
              0,
              "#0d0887"
             ],
             [
              0.1111111111111111,
              "#46039f"
             ],
             [
              0.2222222222222222,
              "#7201a8"
             ],
             [
              0.3333333333333333,
              "#9c179e"
             ],
             [
              0.4444444444444444,
              "#bd3786"
             ],
             [
              0.5555555555555556,
              "#d8576b"
             ],
             [
              0.6666666666666666,
              "#ed7953"
             ],
             [
              0.7777777777777778,
              "#fb9f3a"
             ],
             [
              0.8888888888888888,
              "#fdca26"
             ],
             [
              1,
              "#f0f921"
             ]
            ],
            "type": "surface"
           }
          ],
          "table": [
           {
            "cells": {
             "fill": {
              "color": "#EBF0F8"
             },
             "line": {
              "color": "white"
             }
            },
            "header": {
             "fill": {
              "color": "#C8D4E3"
             },
             "line": {
              "color": "white"
             }
            },
            "type": "table"
           }
          ]
         },
         "layout": {
          "annotationdefaults": {
           "arrowcolor": "#2a3f5f",
           "arrowhead": 0,
           "arrowwidth": 1
          },
          "autotypenumbers": "strict",
          "coloraxis": {
           "colorbar": {
            "outlinewidth": 0,
            "ticks": ""
           }
          },
          "colorscale": {
           "diverging": [
            [
             0,
             "#8e0152"
            ],
            [
             0.1,
             "#c51b7d"
            ],
            [
             0.2,
             "#de77ae"
            ],
            [
             0.3,
             "#f1b6da"
            ],
            [
             0.4,
             "#fde0ef"
            ],
            [
             0.5,
             "#f7f7f7"
            ],
            [
             0.6,
             "#e6f5d0"
            ],
            [
             0.7,
             "#b8e186"
            ],
            [
             0.8,
             "#7fbc41"
            ],
            [
             0.9,
             "#4d9221"
            ],
            [
             1,
             "#276419"
            ]
           ],
           "sequential": [
            [
             0,
             "#0d0887"
            ],
            [
             0.1111111111111111,
             "#46039f"
            ],
            [
             0.2222222222222222,
             "#7201a8"
            ],
            [
             0.3333333333333333,
             "#9c179e"
            ],
            [
             0.4444444444444444,
             "#bd3786"
            ],
            [
             0.5555555555555556,
             "#d8576b"
            ],
            [
             0.6666666666666666,
             "#ed7953"
            ],
            [
             0.7777777777777778,
             "#fb9f3a"
            ],
            [
             0.8888888888888888,
             "#fdca26"
            ],
            [
             1,
             "#f0f921"
            ]
           ],
           "sequentialminus": [
            [
             0,
             "#0d0887"
            ],
            [
             0.1111111111111111,
             "#46039f"
            ],
            [
             0.2222222222222222,
             "#7201a8"
            ],
            [
             0.3333333333333333,
             "#9c179e"
            ],
            [
             0.4444444444444444,
             "#bd3786"
            ],
            [
             0.5555555555555556,
             "#d8576b"
            ],
            [
             0.6666666666666666,
             "#ed7953"
            ],
            [
             0.7777777777777778,
             "#fb9f3a"
            ],
            [
             0.8888888888888888,
             "#fdca26"
            ],
            [
             1,
             "#f0f921"
            ]
           ]
          },
          "colorway": [
           "#636efa",
           "#EF553B",
           "#00cc96",
           "#ab63fa",
           "#FFA15A",
           "#19d3f3",
           "#FF6692",
           "#B6E880",
           "#FF97FF",
           "#FECB52"
          ],
          "font": {
           "color": "#2a3f5f"
          },
          "geo": {
           "bgcolor": "white",
           "lakecolor": "white",
           "landcolor": "#E5ECF6",
           "showlakes": true,
           "showland": true,
           "subunitcolor": "white"
          },
          "hoverlabel": {
           "align": "left"
          },
          "hovermode": "closest",
          "mapbox": {
           "style": "light"
          },
          "paper_bgcolor": "white",
          "plot_bgcolor": "#E5ECF6",
          "polar": {
           "angularaxis": {
            "gridcolor": "white",
            "linecolor": "white",
            "ticks": ""
           },
           "bgcolor": "#E5ECF6",
           "radialaxis": {
            "gridcolor": "white",
            "linecolor": "white",
            "ticks": ""
           }
          },
          "scene": {
           "xaxis": {
            "backgroundcolor": "#E5ECF6",
            "gridcolor": "white",
            "gridwidth": 2,
            "linecolor": "white",
            "showbackground": true,
            "ticks": "",
            "zerolinecolor": "white"
           },
           "yaxis": {
            "backgroundcolor": "#E5ECF6",
            "gridcolor": "white",
            "gridwidth": 2,
            "linecolor": "white",
            "showbackground": true,
            "ticks": "",
            "zerolinecolor": "white"
           },
           "zaxis": {
            "backgroundcolor": "#E5ECF6",
            "gridcolor": "white",
            "gridwidth": 2,
            "linecolor": "white",
            "showbackground": true,
            "ticks": "",
            "zerolinecolor": "white"
           }
          },
          "shapedefaults": {
           "line": {
            "color": "#2a3f5f"
           }
          },
          "ternary": {
           "aaxis": {
            "gridcolor": "white",
            "linecolor": "white",
            "ticks": ""
           },
           "baxis": {
            "gridcolor": "white",
            "linecolor": "white",
            "ticks": ""
           },
           "bgcolor": "#E5ECF6",
           "caxis": {
            "gridcolor": "white",
            "linecolor": "white",
            "ticks": ""
           }
          },
          "title": {
           "x": 0.05
          },
          "xaxis": {
           "automargin": true,
           "gridcolor": "white",
           "linecolor": "white",
           "ticks": "",
           "title": {
            "standoff": 15
           },
           "zerolinecolor": "white",
           "zerolinewidth": 2
          },
          "yaxis": {
           "automargin": true,
           "gridcolor": "white",
           "linecolor": "white",
           "ticks": "",
           "title": {
            "standoff": 15
           },
           "zerolinecolor": "white",
           "zerolinewidth": 2
          }
         }
        },
        "title": {
         "text": "Carte des villes en France"
        }
       }
      }
     },
     "metadata": {},
     "output_type": "display_data"
    }
   ],
   "source": [
    "fig = px.scatter_mapbox(\n",
    "    df,\n",
    "    lat=\"lat\",\n",
    "    lon=\"lon\",\n",
    "    text=\"ville\",\n",
    "    hover_name=\"display_name\",\n",
    "    zoom=5,\n",
    "    height=600,\n",
    "    title=\"Carte des villes en France\"\n",
    ")\n",
    "\n",
    "fig.update_layout(mapbox_style=\"open-street-map\")\n",
    "fig.update_traces(marker=dict(size=12, color=\"red\"))\n",
    "\n",
    "fig.show()"
   ]
  }
 ],
 "metadata": {
  "kernelspec": {
   "display_name": "base",
   "language": "python",
   "name": "python3"
  },
  "language_info": {
   "codemirror_mode": {
    "name": "ipython",
    "version": 3
   },
   "file_extension": ".py",
   "mimetype": "text/x-python",
   "name": "python",
   "nbconvert_exporter": "python",
   "pygments_lexer": "ipython3",
   "version": "3.12.7"
  }
 },
 "nbformat": 4,
 "nbformat_minor": 5
}
