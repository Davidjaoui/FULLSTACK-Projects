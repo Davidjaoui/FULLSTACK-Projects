{
 "cells": [
  {
   "cell_type": "markdown",
   "id": "525f9671",
   "metadata": {},
   "source": [
    "# 📍 Sélection des 5 meilleurs villes  parmis les 335 villes de départ en fonction de leurs importances, et de leurs conditions météo\n",
    "\n",
    "Ce notebook va permettre de générer une sélection, pur cela nous procedons a un EDA sur le dernier CSV créé.\n",
    "Il exporte ensuite les résultats dans un nouveau fichier CSV."
   ]
  }
 ],
 "metadata": {
  "language_info": {
   "name": "python"
  }
 },
 "nbformat": 4,
 "nbformat_minor": 5
}
