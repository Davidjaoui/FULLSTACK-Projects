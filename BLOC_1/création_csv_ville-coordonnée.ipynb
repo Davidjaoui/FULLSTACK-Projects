import requests
import pandas as pd
import json
import plotly.express as px

# Liste des villes à traiter
city = ["Mont Saint Michel",
"St Malo",
"Bayeux",
"Le Havre",
"Rouen",
"Paris",
"Amiens",
"Lille",
"Strasbourg",
"Chateau du Haut Koenigsbourg",
"Colmar",
"Eguisheim",
"Besancon",
"Dijon",
"Annecy",
"Grenoble",
"Lyon",
"Moustiers-Sainte-Marie", # Gorges du Verdon
"Bormes les Mimosas",
"Cassis",
"Marseille",
"Aix en Provence",
"Avignon",
"Uzes",
"Nimes",
"Aigues Mortes",
"Saintes Maries de la mer",
"Collioure",
"Carcassonne",
"Ariege",
"Toulouse",
"Montauban",
"Biarritz",
"Bayonne",
"La Rochelle"]  # Liste des villes

# URL base de l'API Nominatim
url = "https://nominatim.openstreetmap.org/search?country=France&format=json&city="

# Headers requis par l'API
headers = {
    "User-Agent": "MyApp/1.0 (ristou@free.fr)"
}

# Récupération des données
rows = []

for i in city:
    print(f"📍 Traitement de : {i}")
    r = requests.get(url + i, headers=headers)
    # time.sleep(1)  # Pause pour respecter les conditions d'utilisation

    if r.status_code != 200:
        print(f"❌ Erreur HTTP {r.status_code} pour {i}")
        continue

    data = r.json()
    if not data:
        print(f"⚠️ Aucune donnée trouvée pour {i}")
        continue

    result = data[0]
    result["ville"] = i
    rows.append(result)

# Création du DataFrame
df = pd.DataFrame(rows)
df = df[["ville", "display_name", "lat", "lon", "importance"]] # importance= notoriété du lieu

# Convertir les colonnes lat/lon en float (nécessaire pour Plotly)
df["lat"] = df["lat"].astype(float)
df["lon"] = df["lon"].astype(float)

# 📦 Export CSV
df.to_csv("coordonnees_villes.csv", index=False, encoding="utf-8")
print("✅ Fichier 'coordonnees_villes.csv' exporté avec succès")

# 🌍 Visualisation Plotly
fig = px.scatter_mapbox(
    df,
    lat="lat",
    lon="lon",
    text="ville",
    hover_name="display_name",
    zoom=5,
    height=600,
    title="Carte des villes en France"
)

fig.update_layout(mapbox_style="open-street-map")
fig.update_traces(marker=dict(size=12, color="red"))

fig.show()
