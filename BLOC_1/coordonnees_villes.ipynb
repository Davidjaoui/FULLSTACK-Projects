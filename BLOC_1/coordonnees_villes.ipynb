{
 "cells": [
  {
   "cell_type": "markdown",
   "metadata": {},
   "source": [
    "# \ud83d\udccd R\u00e9cup\u00e9ration des coordonn\u00e9es GPS de villes fran\u00e7aises via l\u2019API Nominatim\n",
    "Ce notebook utilise l'API [Nominatim](https://nominatim.org/) pour r\u00e9cup\u00e9rer les coordonn\u00e9es GPS de plusieurs villes fran\u00e7aises.\n",
    "Il exporte ensuite les r\u00e9sultats dans un fichier CSV et affiche les villes sur une carte avec Plotly."
   ]
  },
  {
   "cell_type": "code",
   "execution_count": null,
   "metadata": {},
   "outputs": [],
   "source": [
    "import requests\n",
    "import pandas as pd\n",
    "import plotly.express as px"
   ]
  },
  {
   "cell_type": "code",
   "execution_count": null,
   "metadata": {},
   "outputs": [],
   "source": [
    "# Liste des villes \u00e0 traiter\n",
    "city = [\n",
    "    \"Mont Saint Michel\", \"St Malo\", \"Bayeux\", \"Le Havre\", \"Rouen\", \"Paris\",\n",
    "    \"Amiens\", \"Lille\", \"Strasbourg\", \"Chateau du Haut Koenigsbourg\", \"Colmar\",\n",
    "    \"Eguisheim\", \"Besancon\", \"Dijon\", \"Annecy\", \"Grenoble\", \"Lyon\",\n",
    "    \"Moustiers-Sainte-Marie\", \"Bormes les Mimosas\", \"Cassis\", \"Marseille\",\n",
    "    \"Aix en Provence\", \"Avignon\", \"Uzes\", \"Nimes\", \"Aigues Mortes\",\n",
    "    \"Saintes Maries de la mer\", \"Collioure\", \"Carcassonne\", \"Ariege\",\n",
    "    \"Toulouse\", \"Montauban\", \"Biarritz\", \"Bayonne\", \"La Rochelle\"\n",
    "]"
   ]
  },
  {
   "cell_type": "code",
   "execution_count": null,
   "metadata": {},
   "outputs": [],
   "source": [
    "# URL de base de l'API Nominatim\n",
    "url = \"https://nominatim.openstreetmap.org/search?country=France&format=json&city=\"\n",
    "\n",
    "# Headers requis par l'API (inclure un User-Agent personnalis\u00e9)\n",
    "headers = {\n",
    "    \"User-Agent\": \"MyApp/1.0 (ristou@free.fr)\"\n",
    "}"
   ]
  },
  {
   "cell_type": "code",
   "execution_count": null,
   "metadata": {},
   "outputs": [],
   "source": [
    "# R\u00e9cup\u00e9ration des donn\u00e9es de chaque ville\n",
    "rows = []\n",
    "\n",
    "for i in city:\n",
    "    print(f\"\ud83d\udccd Traitement de : {i}\")\n",
    "    r = requests.get(url + i, headers=headers)\n",
    "    \n",
    "    if r.status_code != 200:\n",
    "        print(f\"\u274c Erreur HTTP {r.status_code} pour {i}\")\n",
    "        continue\n",
    "\n",
    "    data = r.json()\n",
    "    if not data:\n",
    "        print(f\"\u26a0\ufe0f Aucune donn\u00e9e trouv\u00e9e pour {i}\")\n",
    "        continue\n",
    "\n",
    "    result = data[0]\n",
    "    result[\"ville\"] = i\n",
    "    rows.append(result)"
   ]
  },
  {
   "cell_type": "code",
   "execution_count": null,
   "metadata": {},
   "outputs": [],
   "source": [
    "# Cr\u00e9ation du DataFrame\n",
    "df = pd.DataFrame(rows)\n",
    "df = df[[\"ville\", \"display_name\", \"lat\", \"lon\", \"importance\"]]  # importance = notori\u00e9t\u00e9 du lieu\n",
    "\n",
    "# Conversion des coordonn\u00e9es en float\n",
    "df[\"lat\"] = df[\"lat\"].astype(float)\n",
    "df[\"lon\"] = df[\"lon\"].astype(float)\n",
    "\n",
    "# Export CSV\n",
    "df.to_csv(\"coordonnees_villes.csv\", index=False, encoding=\"utf-8\")\n",
    "print(\"\u2705 Fichier 'coordonnees_villes.csv' export\u00e9 avec succ\u00e8s\")"
   ]
  },
  {
   "cell_type": "markdown",
   "metadata": {},
   "source": [
    "## \ud83c\udf0d Visualisation interactive avec Plotly"
   ]
  },
  {
   "cell_type": "code",
   "execution_count": null,
   "metadata": {},
   "outputs": [],
   "source": [
    "fig = px.scatter_mapbox(\n",
    "    df,\n",
    "    lat=\"lat\",\n",
    "    lon=\"lon\",\n",
    "    text=\"ville\",\n",
    "    hover_name=\"display_name\",\n",
    "    zoom=5,\n",
    "    height=600,\n",
    "    title=\"Carte des villes en France\"\n",
    ")\n",
    "\n",
    "fig.update_layout(mapbox_style=\"open-street-map\")\n",
    "fig.update_traces(marker=dict(size=12, color=\"red\"))\n",
    "\n",
    "fig.show()"
   ]
  }
 ],
 "metadata": {
  "kernelspec": {
   "display_name": "Python 3",
   "language": "python",
   "name": "python3"
  },
  "language_info": {
   "name": "python",
   "version": ""
  }
 },
 "nbformat": 4,
 "nbformat_minor": 5
}